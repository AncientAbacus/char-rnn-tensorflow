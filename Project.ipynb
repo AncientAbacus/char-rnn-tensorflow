{
 "cells": [
  {
   "cell_type": "code",
   "execution_count": 1,
   "metadata": {},
   "outputs": [
    {
     "name": "stdout",
     "output_type": "stream",
     "text": [
      "Dataset already exists at: data/tinyshakespeare/input.txt\n"
     ]
    }
   ],
   "source": [
    "import os\n",
    "import requests\n",
    "\n",
    "# Create the data directory if it doesn't exist\n",
    "data_dir = \"data/tinyshakespeare\"\n",
    "os.makedirs(data_dir, exist_ok=True)\n",
    "\n",
    "# Download the Tiny Shakespeare dataset if not already present\n",
    "dataset_path = os.path.join(data_dir, \"input.txt\")\n",
    "if not os.path.exists(dataset_path):\n",
    "    dataset_url = \"https://raw.githubusercontent.com/karpathy/char-rnn/master/data/tinyshakespeare/input.txt\"\n",
    "    response = requests.get(dataset_url)\n",
    "    if response.status_code == 200:\n",
    "        with open(dataset_path, \"w\", encoding=\"utf-8\") as f:\n",
    "            f.write(response.text)\n",
    "        print(\"Dataset downloaded successfully!\")\n",
    "    else:\n",
    "        print(\"Failed to download dataset. Status code:\", response.status_code)\n",
    "else:\n",
    "    print(\"Dataset already exists at:\", dataset_path)"
   ]
  },
  {
   "cell_type": "code",
   "execution_count": null,
   "metadata": {},
   "outputs": [],
   "source": []
  }
 ],
 "metadata": {
  "kernelspec": {
   "display_name": "base",
   "language": "python",
   "name": "python3"
  },
  "language_info": {
   "codemirror_mode": {
    "name": "ipython",
    "version": 3
   },
   "file_extension": ".py",
   "mimetype": "text/x-python",
   "name": "python",
   "nbconvert_exporter": "python",
   "pygments_lexer": "ipython3",
   "version": "3.12.8"
  }
 },
 "nbformat": 4,
 "nbformat_minor": 2
}
